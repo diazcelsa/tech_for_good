{
  "nbformat": 4,
  "nbformat_minor": 0,
  "metadata": {
    "colab": {
      "name": "data_ayuntamiento_barcelona.ipynb",
      "version": "0.3.2",
      "provenance": [],
      "collapsed_sections": []
    },
    "language_info": {
      "codemirror_mode": {
        "name": "ipython",
        "version": 3
      },
      "file_extension": ".py",
      "mimetype": "text/x-python",
      "name": "python",
      "nbconvert_exporter": "python",
      "pygments_lexer": "ipython3",
      "version": "3.6.0"
    },
    "kernelspec": {
      "display_name": "Python 3",
      "language": "python",
      "name": "python3"
    }
  },
  "cells": [
    {
      "cell_type": "markdown",
      "metadata": {
        "id": "sJDSt7Gx4LQ9",
        "colab_type": "text"
      },
      "source": [
        "# Build your own visualization and add it to your website :)\n",
        "\n",
        "Go to [DataWrapper](https://app.datawrapper.de/) and create your account to build your first visualization.\n",
        "\n",
        "![4dsd](https://raw.githubusercontent.com/diazcelsa/tech_for_good/master/img/datawrapper.png)"
      ]
    },
    {
      "cell_type": "markdown",
      "metadata": {
        "id": "uVHNBEhb8KY0",
        "colab_type": "text"
      },
      "source": [
        "## We will use Python to access and transform the data for the visualization"
      ]
    },
    {
      "cell_type": "code",
      "metadata": {
        "id": "geyfKTjcdogd",
        "colab_type": "code",
        "colab": {}
      },
      "source": [
        "# Make python package imports\n",
        "import pandas as pd\n",
        "\n",
        "# Import when using the notebook from google drive Colab\n",
        "from google.colab import files\n",
        "\n",
        "# Hide warnings\n",
        "import warnings\n",
        "warnings.filterwarnings('ignore')"
      ],
      "execution_count": 0,
      "outputs": []
    },
    {
      "cell_type": "code",
      "metadata": {
        "id": "912Tqzmsdogj",
        "colab_type": "code",
        "colab": {}
      },
      "source": [
        "### Define functions for data extraction\n",
        "\n",
        "# Filter out the datasets that do not have access throught the API or geolocation info\n",
        "def filter_datasets_by_criteria(data, geo_location=True):\n",
        "    \n",
        "    # Selection of datasets that have geolocation info and access through the API\n",
        "    if geo_location:\n",
        "        condition_geolocation = (data['geolocation'] != 'No')\n",
        "        condition_api = (data['api'] == 'Yes')\n",
        "        data_ = data[condition_geolocation & condition_api]\n",
        "    \n",
        "    # Selection of datasets that have access through the API\n",
        "    else:\n",
        "        condition_api = (data['api'] == 'Yes')\n",
        "        data_ = data[condition_geolocation & condition_api]\n",
        "\n",
        "    return data_\n",
        "\n",
        "  \n",
        "# Get the info about all datasets in the city hall of Barcelona site  \n",
        "def get_geolocated_barcelona_datasets(url):\n",
        "    \n",
        "    # Request information about all datasets available\n",
        "    response = pd.read_json(url)\n",
        "    response_details = pd.DataFrame.from_records(response.loc['results','result'])\n",
        "    \n",
        "    # Extract only datasets that do not have geolocation and access through the API \n",
        "    response_details_clean = filter_datasets_by_criteria(response_details, geo_location=True)\n",
        "    \n",
        "    # Extract names of datasets\n",
        "    dataset_name_list = response_details_clean['code'].tolist()\n",
        "    \n",
        "    return dataset_name_list, response_details_clean\n",
        "\n",
        "  \n",
        "# Call to the city hall API to access the data for the given dataset\n",
        "def get_dataset(data, name=\"sanitat serveis sanitaris\"):\n",
        "    \n",
        "    # Extract the dataset for the given name \n",
        "    dataset_url = data[data['code'].str.contains(name)]['resources'].values[0][0]['url']\n",
        "    \n",
        "    # Download the requested dataset\n",
        "    return pd.read_csv(dataset_url)\n",
        "  \n",
        "def get_number_of_business_per_neighborhoods(data, list_businesses):\n",
        "  \n",
        "  # Select the data for the types of business of interest\n",
        "  data_selection = data[data['N_ACT'].isin(list_businesses)]\n",
        "  data_selection = data_selection[['LONGITUD','LATITUD','N_ACT','N_LOCAL','Nom_Barri','Codi_Barri']]\n",
        "  \n",
        "  # Calculate the number of businesses per type and neighborhoods and the geographical center of mass of all them in each neighborhood\n",
        "  center_locations = data_selection[['Codi_Barri','LONGITUD','LATITUD','N_ACT']].groupby(['N_ACT', 'Codi_Barri'], as_index=False).mean()\n",
        "  n_businesses = data_selection[['Codi_Barri','Nom_Barri','LONGITUD','N_ACT']].groupby(['N_ACT', 'Nom_Barri', 'Codi_Barri'], as_index=False).count()\n",
        "  n_businesses = n_businesses.rename(columns={'LONGITUD':'n_events'})\n",
        "  \n",
        "  # Combine center of businesses per neighborhood and number of businesses for the visualization\n",
        "  biz_neighborhood_info = center_locations.merge(n_businesses, left_on=['N_ACT','Codi_Barri'], right_on=['N_ACT','Codi_Barri'])\n",
        "  \n",
        "  return biz_neighborhood_info"
      ],
      "execution_count": 0,
      "outputs": []
    },
    {
      "cell_type": "markdown",
      "metadata": {
        "id": "B-bWD2n3joTD",
        "colab_type": "text"
      },
      "source": [
        "## Get the list of public datasets provided by the City Hall of Barcelona\n",
        "\n",
        "![sdfs](https://raw.githubusercontent.com/diazcelsa/tech_for_good/master/img/open_data_bcn.png)"
      ]
    },
    {
      "cell_type": "code",
      "metadata": {
        "id": "ndocpVrsdogn",
        "colab_type": "code",
        "colab": {}
      },
      "source": [
        "# Get info from the datasets available in the city hall of Barcelona\n",
        "url=\"https://opendata-ajuntament.barcelona.cat/data/api/3/action/package_search?rows=10000\"\n",
        "dataset_name_list, response_details_clean = get_geolocated_barcelona_datasets(url)"
      ],
      "execution_count": 0,
      "outputs": []
    },
    {
      "cell_type": "code",
      "metadata": {
        "id": "Fw2mWYrudogr",
        "colab_type": "code",
        "outputId": "a7448647-afaf-4e3a-99dd-28fad21e5289",
        "colab": {
          "base_uri": "https://localhost:8080/",
          "height": 782
        }
      },
      "source": [
        "dataset_name_list"
      ],
      "execution_count": 0,
      "outputs": [
        {
          "output_type": "execute_result",
          "data": {
            "text/plain": [
              "['educacio ensenyament infantil',\n",
              " 'educacio ensenyament no reglat',\n",
              " 'sanitat serveis sanitaris',\n",
              " 'sanitat hospitals atencio primaria',\n",
              " 'sanitat farmacies',\n",
              " 'FONTS_ORNAMENTALS',\n",
              " 'equipaments culturals icub',\n",
              " 'barcelona-activa-subvencions',\n",
              " 'ServeisSocials_MenjadorsSocials',\n",
              " 'serveissocials residenciesgentgran',\n",
              " 'serveissocials centresdiagentgran',\n",
              " 'serveissocials centresserveissocials',\n",
              " 'serveissocials-oficinesbenestarsocial',\n",
              " 'serveissocials habitatgestutelats',\n",
              " 'serveissocials puntsassessoramentenergetic',\n",
              " 'serveissocials equipsatencioinfanciaadolescencia',\n",
              " 'serveissocials puntsinformacioiatenciodones',\n",
              " 'aforaments descriptiu',\n",
              " 'qualitat_aire_estacions_BCN',\n",
              " 'dades xarxa biblioteques catalunya',\n",
              " 'Arbrat zona',\n",
              " 'trams aparcament superficie',\n",
              " 'punts critics neteja barcelona',\n",
              " 'COBERTURA_VEGETAL_NDVI',\n",
              " 'IRIS',\n",
              " 'HABITATGES_US_TURISTIC',\n",
              " 'dades ateneus',\n",
              " 'dades projectes fabriques creacio',\n",
              " 'ACCIDENTS_CAUSES_GU_BCN',\n",
              " 'ACCIDENTS_PERSONES_GU_BCN',\n",
              " 'ACCIDENTS_TIPUS_GU_BCN',\n",
              " 'ACCIDENTS_VEHICLES_GU_BCN',\n",
              " 'BICING',\n",
              " 'CENS_ACTIVITATS_COMERCIALS',\n",
              " 'ACCIDENTS_GU_BCN',\n",
              " 'ARBRAT_VIARI',\n",
              " 'dades arxius',\n",
              " 'dades sales musica en viu',\n",
              " 'dades grans auditoris',\n",
              " 'dades arts esceniques',\n",
              " 'LLISTA_EXPOSICIONS_TEMPORALS',\n",
              " 'dades_museus_exposicions',\n",
              " 'FABRIQUES_CREACIO_METRES_QUADRATS',\n",
              " 'FONTS_BEURE',\n",
              " 'TRANSIT_RELACIO_TRAMS']"
            ]
          },
          "metadata": {
            "tags": []
          },
          "execution_count": 4
        }
      ]
    },
    {
      "cell_type": "markdown",
      "metadata": {
        "id": "18MRk029j1H7",
        "colab_type": "text"
      },
      "source": [
        "# 1. How is the density of a given type of business over the neighborhoods in Barcelona?"
      ]
    },
    {
      "cell_type": "markdown",
      "metadata": {
        "id": "tBc8Lc_03Ls_",
        "colab_type": "text"
      },
      "source": [
        "![ss](https://raw.githubusercontent.com/diazcelsa/tech_for_good/master/img/handcraft_biz_barna.png) ![sss](https://raw.githubusercontent.com/diazcelsa/tech_for_good/master/img/tourism_biz_barna.png)"
      ]
    },
    {
      "cell_type": "code",
      "metadata": {
        "id": "Q9Udg9hkdogy",
        "colab_type": "code",
        "colab": {}
      },
      "source": [
        "# Get the dataset from comercial activities per type of activity\n",
        "name_dataset = \"CENS_ACTIVITATS_COMERCIALS\"\n",
        "dataset = get_dataset(response_details_clean, name=name_dataset)"
      ],
      "execution_count": 0,
      "outputs": []
    },
    {
      "cell_type": "code",
      "metadata": {
        "id": "YV6WVVOxdog2",
        "colab_type": "code",
        "outputId": "5cfd1e48-fb74-4dac-c53b-f08c130cbc11",
        "colab": {
          "base_uri": "https://localhost:8080/",
          "height": 199
        }
      },
      "source": [
        "dataset.head(2)"
      ],
      "execution_count": 0,
      "outputs": [
        {
          "output_type": "execute_result",
          "data": {
            "text/html": [
              "<div>\n",
              "<style scoped>\n",
              "    .dataframe tbody tr th:only-of-type {\n",
              "        vertical-align: middle;\n",
              "    }\n",
              "\n",
              "    .dataframe tbody tr th {\n",
              "        vertical-align: top;\n",
              "    }\n",
              "\n",
              "    .dataframe thead th {\n",
              "        text-align: right;\n",
              "    }\n",
              "</style>\n",
              "<table border=\"1\" class=\"dataframe\">\n",
              "  <thead>\n",
              "    <tr style=\"text-align: right;\">\n",
              "      <th></th>\n",
              "      <th>ID_BCN</th>\n",
              "      <th>ID_PRINCIP</th>\n",
              "      <th>N_PRINCIP</th>\n",
              "      <th>ID_SECTOR</th>\n",
              "      <th>N_SECTOR</th>\n",
              "      <th>ID_GRUPACT</th>\n",
              "      <th>N_GRUPACT</th>\n",
              "      <th>ID_ACT</th>\n",
              "      <th>N_ACT</th>\n",
              "      <th>N_LOCAL</th>\n",
              "      <th>SN_CARRER</th>\n",
              "      <th>SN_MERCAT</th>\n",
              "      <th>ID_MERCAT</th>\n",
              "      <th>N_MERCAT</th>\n",
              "      <th>SN_GALERIA</th>\n",
              "      <th>N_GALERIA</th>\n",
              "      <th>SN_CCOMERC</th>\n",
              "      <th>ID_CCOMERC</th>\n",
              "      <th>N_CCOMERC</th>\n",
              "      <th>N_CARRER</th>\n",
              "      <th>NUM_POLICI</th>\n",
              "      <th>REF_CAD</th>\n",
              "      <th>DATA</th>\n",
              "      <th>Codi_Barri</th>\n",
              "      <th>Nom_Barri</th>\n",
              "      <th>Codi_Districte</th>\n",
              "      <th>N_DISTRI</th>\n",
              "      <th>N_EIX</th>\n",
              "      <th>SN_EIX</th>\n",
              "      <th>SEC_CENS</th>\n",
              "      <th>Y_UTM_ETRS</th>\n",
              "      <th>X_UTM_ETRS</th>\n",
              "      <th>LATITUD</th>\n",
              "      <th>LONGITUD</th>\n",
              "    </tr>\n",
              "  </thead>\n",
              "  <tbody>\n",
              "    <tr>\n",
              "      <th>0</th>\n",
              "      <td>49</td>\n",
              "      <td>1</td>\n",
              "      <td>Actiu</td>\n",
              "      <td>1</td>\n",
              "      <td>Comerç al detall</td>\n",
              "      <td>4</td>\n",
              "      <td>Equipament personal</td>\n",
              "      <td>4003</td>\n",
              "      <td>Vestir</td>\n",
              "      <td>INSIDE</td>\n",
              "      <td>0</td>\n",
              "      <td>0</td>\n",
              "      <td>0</td>\n",
              "      <td></td>\n",
              "      <td>0</td>\n",
              "      <td></td>\n",
              "      <td>1</td>\n",
              "      <td>CC003</td>\n",
              "      <td>Maremàgnum</td>\n",
              "      <td>MOLL ESPANYA</td>\n",
              "      <td>5.0</td>\n",
              "      <td>1813205DF3811D</td>\n",
              "      <td>2016-06-07</td>\n",
              "      <td>2</td>\n",
              "      <td>el Barri Gòtic</td>\n",
              "      <td>1</td>\n",
              "      <td>Ciutat Vella</td>\n",
              "      <td>NaN</td>\n",
              "      <td>0</td>\n",
              "      <td>1030</td>\n",
              "      <td>4580750.861</td>\n",
              "      <td>431675.395</td>\n",
              "      <td>41.375377</td>\n",
              "      <td>2.182944</td>\n",
              "    </tr>\n",
              "    <tr>\n",
              "      <th>1</th>\n",
              "      <td>50</td>\n",
              "      <td>1</td>\n",
              "      <td>Actiu</td>\n",
              "      <td>2</td>\n",
              "      <td>Serveis</td>\n",
              "      <td>14</td>\n",
              "      <td>Restaurants, bars i hotels (Inclòs hostals, pe...</td>\n",
              "      <td>14000</td>\n",
              "      <td>Serveis de menjar i begudes</td>\n",
              "      <td>KURTZ &amp; GUT</td>\n",
              "      <td>0</td>\n",
              "      <td>0</td>\n",
              "      <td>0</td>\n",
              "      <td></td>\n",
              "      <td>0</td>\n",
              "      <td></td>\n",
              "      <td>1</td>\n",
              "      <td>CC003</td>\n",
              "      <td>Maremàgnum</td>\n",
              "      <td>MOLL ESPANYA</td>\n",
              "      <td>5.0</td>\n",
              "      <td>1813205DF3811D</td>\n",
              "      <td>2016-06-07</td>\n",
              "      <td>2</td>\n",
              "      <td>el Barri Gòtic</td>\n",
              "      <td>1</td>\n",
              "      <td>Ciutat Vella</td>\n",
              "      <td>NaN</td>\n",
              "      <td>0</td>\n",
              "      <td>1030</td>\n",
              "      <td>4580752.167</td>\n",
              "      <td>431687.786</td>\n",
              "      <td>41.375390</td>\n",
              "      <td>2.183092</td>\n",
              "    </tr>\n",
              "  </tbody>\n",
              "</table>\n",
              "</div>"
            ],
            "text/plain": [
              "   ID_BCN  ID_PRINCIP N_PRINCIP  ...  X_UTM_ETRS    LATITUD  LONGITUD\n",
              "0      49           1     Actiu  ...  431675.395  41.375377  2.182944\n",
              "1      50           1     Actiu  ...  431687.786  41.375390  2.183092\n",
              "\n",
              "[2 rows x 34 columns]"
            ]
          },
          "metadata": {
            "tags": []
          },
          "execution_count": 6
        }
      ]
    },
    {
      "cell_type": "markdown",
      "metadata": {
        "id": "wMeHQYHgkxhp",
        "colab_type": "text"
      },
      "source": [
        "#### How does each of the business events looks like?"
      ]
    },
    {
      "cell_type": "code",
      "metadata": {
        "id": "pxXGY9o3dog7",
        "colab_type": "code",
        "outputId": "96998a63-a242-4656-e09f-a2db09cc3e58",
        "colab": {
          "base_uri": "https://localhost:8080/",
          "height": 612
        }
      },
      "source": [
        "dataset.iloc[0]"
      ],
      "execution_count": 0,
      "outputs": [
        {
          "output_type": "execute_result",
          "data": {
            "text/plain": [
              "ID_BCN                             49\n",
              "ID_PRINCIP                          1\n",
              "N_PRINCIP                       Actiu\n",
              "ID_SECTOR                           1\n",
              "N_SECTOR             Comerç al detall\n",
              "ID_GRUPACT                          4\n",
              "N_GRUPACT         Equipament personal\n",
              "ID_ACT                           4003\n",
              "N_ACT                          Vestir\n",
              "N_LOCAL                        INSIDE\n",
              "SN_CARRER                           0\n",
              "SN_MERCAT                           0\n",
              "ID_MERCAT                           0\n",
              "N_MERCAT                             \n",
              "SN_GALERIA                          0\n",
              "N_GALERIA                            \n",
              "SN_CCOMERC                          1\n",
              "ID_CCOMERC                      CC003\n",
              "N_CCOMERC                  Maremàgnum\n",
              "N_CARRER                 MOLL ESPANYA\n",
              "NUM_POLICI                          5\n",
              "REF_CAD                1813205DF3811D\n",
              "DATA                       2016-06-07\n",
              "Codi_Barri                          2\n",
              "Nom_Barri              el Barri Gòtic\n",
              "Codi_Districte                      1\n",
              "N_DISTRI                 Ciutat Vella\n",
              "N_EIX                             NaN\n",
              "SN_EIX                              0\n",
              "SEC_CENS                         1030\n",
              "Y_UTM_ETRS                4.58075e+06\n",
              "X_UTM_ETRS                     431675\n",
              "LATITUD                       41.3754\n",
              "LONGITUD                      2.18294\n",
              "Name: 0, dtype: object"
            ]
          },
          "metadata": {
            "tags": []
          },
          "execution_count": 7
        }
      ]
    },
    {
      "cell_type": "markdown",
      "metadata": {
        "id": "XijhvopUmXOr",
        "colab_type": "text"
      },
      "source": [
        "#### How many businesses do we have available?"
      ]
    },
    {
      "cell_type": "code",
      "metadata": {
        "id": "15e8gAUOmciv",
        "colab_type": "code",
        "outputId": "3c8dde24-439e-40da-f592-7d5c07b4658e",
        "colab": {
          "base_uri": "https://localhost:8080/",
          "height": 34
        }
      },
      "source": [
        "len(dataset)"
      ],
      "execution_count": 0,
      "outputs": [
        {
          "output_type": "execute_result",
          "data": {
            "text/plain": [
              "78033"
            ]
          },
          "metadata": {
            "tags": []
          },
          "execution_count": 8
        }
      ]
    },
    {
      "cell_type": "markdown",
      "metadata": {
        "id": "qgPRqWQolm7O",
        "colab_type": "text"
      },
      "source": [
        "**Take into account**\n",
        "* The geocoding information is at district, neighborhood and latitude/longitude level\n",
        "* There are almost 80k businesses so we will aggregate the number of businesses per type and neighborhood"
      ]
    },
    {
      "cell_type": "markdown",
      "metadata": {
        "id": "yIuaBqMvlGLq",
        "colab_type": "text"
      },
      "source": [
        "#### How many types of business are described?"
      ]
    },
    {
      "cell_type": "code",
      "metadata": {
        "id": "t_X5nI9Wdog_",
        "colab_type": "code",
        "outputId": "31d433d8-c554-45c4-c045-5fd091613170",
        "colab": {
          "base_uri": "https://localhost:8080/",
          "height": 476
        }
      },
      "source": [
        "dataset['N_ACT'].unique()"
      ],
      "execution_count": 0,
      "outputs": [
        {
          "output_type": "execute_result",
          "data": {
            "text/plain": [
              "array(['Vestir', 'Serveis de menjar i begudes', 'Calçat i pell',\n",
              "       'Drogueria i perfumeria', 'Joieria, rellotgeria i bijuteria',\n",
              "       \"Centres d'estètica\", 'Begudes', 'Optiques i fotografia',\n",
              "       'Informàtica', 'Resta alimentació',\n",
              "       'Equipaments culturals i recreatius', 'Tintoreries',\n",
              "       'Mobles i articles fusta i metall', 'Material equipament llar',\n",
              "       'Joguines i esports', 'Souvenirs i basars', 'Altres',\n",
              "       'Perruqueries', 'Pa, pastisseria i làctics', 'Carn i Porc',\n",
              "       'Llibres, diaris i revistes', 'Grans magatzems i hipermercats',\n",
              "       'Peix i marisc', 'Herbolaris', 'Finances i assegurances',\n",
              "       'Esports', 'Arranjaments', 'Ous i aus', 'Merceria',\n",
              "       'Activitats de transport i emmagatzematge', '-', 'Farmàcies',\n",
              "       'Floristeries', 'Veterinaris / Mascotes', 'Associacions',\n",
              "       \"Serveis d'allotjament\", 'Aparells domèstics',\n",
              "       'Manteniment, neteja i similars',\n",
              "       'Reparacions (Electrodomèstics i automòbils)',\n",
              "       'Agències de viatge', 'Fruites i verdures', 'Administració',\n",
              "       'Sanitat i assistència', 'Ensenyament',\n",
              "       'Tabac i articles fumadors', 'Pàrkings i garatges',\n",
              "       'Serveis Socials', 'Activitats immobiliàries',\n",
              "       'Activitats de la construcció',\n",
              "       'Serveis a les empreses i oficines', 'Parament ferreteria',\n",
              "       'Arts gràfiques', 'Locutoris', 'Equipamants religiosos',\n",
              "       'Serveis de telecomunicacions', 'Vehicles', 'Fabricació tèxtil',\n",
              "       'Activitats industrials', 'Música',\n",
              "       'Segells, monedes i antiguitats', 'Maquinària',\n",
              "       'Combustibles i carburants'], dtype=object)"
            ]
          },
          "metadata": {
            "tags": []
          },
          "execution_count": 9
        }
      ]
    },
    {
      "cell_type": "markdown",
      "metadata": {
        "id": "3XwP-iCUqm0t",
        "colab_type": "text"
      },
      "source": [
        "#### Select the types of business to visualize in the map of Barcelona"
      ]
    },
    {
      "cell_type": "code",
      "metadata": {
        "id": "lAM-NKaclE81",
        "colab_type": "code",
        "colab": {}
      },
      "source": [
        "businesses_handcraft = ['Fabricació tèxtil', 'Mobles i articles fusta i metall', 'Reparacions (Electrodomèstics i automòbils)']\n",
        "businesses_tourism = ['Souvenirs i basars', \"Serveis d'allotjament\", 'Agències de viatge']\n",
        "\n",
        "# Aggregate the data per neighborhood for the given businesses\n",
        "biz_neighborhood_info = get_number_of_business_per_neighborhoods(dataset, businesses_tourism)"
      ],
      "execution_count": 0,
      "outputs": []
    },
    {
      "cell_type": "code",
      "metadata": {
        "id": "PGl2DqIGdohC",
        "colab_type": "code",
        "outputId": "455fbff5-f299-4b23-a841-50023e412d31",
        "colab": {
          "base_uri": "https://localhost:8080/",
          "height": 204
        }
      },
      "source": [
        "biz_neighborhood_info.head()"
      ],
      "execution_count": 0,
      "outputs": [
        {
          "output_type": "execute_result",
          "data": {
            "text/html": [
              "<div>\n",
              "<style scoped>\n",
              "    .dataframe tbody tr th:only-of-type {\n",
              "        vertical-align: middle;\n",
              "    }\n",
              "\n",
              "    .dataframe tbody tr th {\n",
              "        vertical-align: top;\n",
              "    }\n",
              "\n",
              "    .dataframe thead th {\n",
              "        text-align: right;\n",
              "    }\n",
              "</style>\n",
              "<table border=\"1\" class=\"dataframe\">\n",
              "  <thead>\n",
              "    <tr style=\"text-align: right;\">\n",
              "      <th></th>\n",
              "      <th>N_ACT</th>\n",
              "      <th>Codi_Barri</th>\n",
              "      <th>LONGITUD</th>\n",
              "      <th>LATITUD</th>\n",
              "      <th>Nom_Barri</th>\n",
              "      <th>n_events</th>\n",
              "    </tr>\n",
              "  </thead>\n",
              "  <tbody>\n",
              "    <tr>\n",
              "      <th>0</th>\n",
              "      <td>Agències de viatge</td>\n",
              "      <td>1</td>\n",
              "      <td>2.168302</td>\n",
              "      <td>41.379526</td>\n",
              "      <td>el Raval</td>\n",
              "      <td>22</td>\n",
              "    </tr>\n",
              "    <tr>\n",
              "      <th>1</th>\n",
              "      <td>Agències de viatge</td>\n",
              "      <td>2</td>\n",
              "      <td>2.176476</td>\n",
              "      <td>41.385064</td>\n",
              "      <td>el Barri Gòtic</td>\n",
              "      <td>2</td>\n",
              "    </tr>\n",
              "    <tr>\n",
              "      <th>2</th>\n",
              "      <td>Agències de viatge</td>\n",
              "      <td>3</td>\n",
              "      <td>2.191504</td>\n",
              "      <td>41.380565</td>\n",
              "      <td>la Barceloneta</td>\n",
              "      <td>1</td>\n",
              "    </tr>\n",
              "    <tr>\n",
              "      <th>3</th>\n",
              "      <td>Agències de viatge</td>\n",
              "      <td>4</td>\n",
              "      <td>2.178289</td>\n",
              "      <td>41.385539</td>\n",
              "      <td>Sant Pere, Santa Caterina i la Ribera</td>\n",
              "      <td>3</td>\n",
              "    </tr>\n",
              "    <tr>\n",
              "      <th>4</th>\n",
              "      <td>Agències de viatge</td>\n",
              "      <td>5</td>\n",
              "      <td>2.179568</td>\n",
              "      <td>41.395398</td>\n",
              "      <td>el Fort Pienc</td>\n",
              "      <td>6</td>\n",
              "    </tr>\n",
              "  </tbody>\n",
              "</table>\n",
              "</div>"
            ],
            "text/plain": [
              "                N_ACT  ...  n_events\n",
              "0  Agències de viatge  ...        22\n",
              "1  Agències de viatge  ...         2\n",
              "2  Agències de viatge  ...         1\n",
              "3  Agències de viatge  ...         3\n",
              "4  Agències de viatge  ...         6\n",
              "\n",
              "[5 rows x 6 columns]"
            ]
          },
          "metadata": {
            "tags": []
          },
          "execution_count": 11
        }
      ]
    },
    {
      "cell_type": "code",
      "metadata": {
        "id": "I7i7qAAydohw",
        "colab_type": "code",
        "colab": {}
      },
      "source": [
        "# Download the dataset for visualizations\n",
        "biz_neighborhood_info.to_csv('comercios_barcelona.csv',index=False, encoding='utf-8')\n",
        "files.download('comercios_barcelona.csv')"
      ],
      "execution_count": 0,
      "outputs": []
    },
    {
      "cell_type": "markdown",
      "metadata": {
        "id": "HY3gBiPxs-eA",
        "colab_type": "text"
      },
      "source": [
        "#### Build your own visualization in https://app.datawrapper.de"
      ]
    },
    {
      "cell_type": "markdown",
      "metadata": {
        "id": "R7fqQautyhxk",
        "colab_type": "text"
      },
      "source": [
        "# 2. How are distributed the subsidies from Barcelona Activa distributed over the city?\n",
        "\n",
        "![sde](https://raw.githubusercontent.com/diazcelsa/tech_for_good/master/img/barcelona_activa.png)"
      ]
    },
    {
      "cell_type": "code",
      "metadata": {
        "id": "Min1nLH3yy6_",
        "colab_type": "code",
        "colab": {}
      },
      "source": [
        "# Select the dataset about the barcelona activa subsidies\n",
        "name_dataset = \"barcelona-activa-subvencions\"\n",
        "dataset = get_dataset(response_details_clean, name=name_dataset)"
      ],
      "execution_count": 0,
      "outputs": []
    },
    {
      "cell_type": "code",
      "metadata": {
        "id": "jGZOdYO6yy-k",
        "colab_type": "code",
        "outputId": "d21bc486-9107-42ae-8238-52c385897cf3",
        "colab": {
          "base_uri": "https://localhost:8080/",
          "height": 284
        }
      },
      "source": [
        "dataset.head(2)"
      ],
      "execution_count": 0,
      "outputs": [
        {
          "output_type": "execute_result",
          "data": {
            "text/html": [
              "<div>\n",
              "<style scoped>\n",
              "    .dataframe tbody tr th:only-of-type {\n",
              "        vertical-align: middle;\n",
              "    }\n",
              "\n",
              "    .dataframe tbody tr th {\n",
              "        vertical-align: top;\n",
              "    }\n",
              "\n",
              "    .dataframe thead th {\n",
              "        text-align: right;\n",
              "    }\n",
              "</style>\n",
              "<table border=\"1\" class=\"dataframe\">\n",
              "  <thead>\n",
              "    <tr style=\"text-align: right;\">\n",
              "      <th></th>\n",
              "      <th>Nom_projecte</th>\n",
              "      <th>Breu_Descripció_Projecte</th>\n",
              "      <th>Entitat_Sol·licitant</th>\n",
              "      <th>Desc_Modalitat</th>\n",
              "      <th>Col.lectiu_Destinatari</th>\n",
              "      <th>Adreça</th>\n",
              "      <th>Codi_Postal</th>\n",
              "      <th>Ciutat</th>\n",
              "      <th>Longitud</th>\n",
              "      <th>Latitud</th>\n",
              "      <th>Àmbit_Territorial</th>\n",
              "    </tr>\n",
              "  </thead>\n",
              "  <tbody>\n",
              "    <tr>\n",
              "      <th>0</th>\n",
              "      <td>Beques per a Joves estudiants de Trinitat Nova</td>\n",
              "      <td>Reconèixer i donar suport als joves en els seu...</td>\n",
              "      <td>ASSOCIACIÓ DEL COMERÇ I DE LES EMPRESES DE TRI...</td>\n",
              "      <td>Emprenedoria i empresa de proximitat</td>\n",
              "      <td>Joves estudiants majors d’edat, empadronats al...</td>\n",
              "      <td>Carrer de la Fosca, 10</td>\n",
              "      <td>8033</td>\n",
              "      <td>Barcelona</td>\n",
              "      <td>2.18409</td>\n",
              "      <td>41.44801</td>\n",
              "      <td>LA TRINITAT NOVA</td>\n",
              "    </tr>\n",
              "    <tr>\n",
              "      <th>1</th>\n",
              "      <td>Servei d'activació laboral per dones amb disca...</td>\n",
              "      <td>Millorar la situació de pobresa de trenta done...</td>\n",
              "      <td>ASSOCIACIÓ DE DONES NO ESTÀNDARDS (DONNES)</td>\n",
              "      <td>Foment de l'ocupació de qualitat al territori</td>\n",
              "      <td>Dones amb discapacitat física i/o sensorial, a...</td>\n",
              "      <td>Carrer de Sant Antoni Maria Claret, 31, entresol</td>\n",
              "      <td>8025</td>\n",
              "      <td>Barcelona</td>\n",
              "      <td>2.16544</td>\n",
              "      <td>41.40473</td>\n",
              "      <td>BARCELONA</td>\n",
              "    </tr>\n",
              "  </tbody>\n",
              "</table>\n",
              "</div>"
            ],
            "text/plain": [
              "                                       Nom_projecte   ... Àmbit_Territorial \n",
              "0     Beques per a Joves estudiants de Trinitat Nova  ...   LA TRINITAT NOVA\n",
              "1  Servei d'activació laboral per dones amb disca...  ...          BARCELONA\n",
              "\n",
              "[2 rows x 11 columns]"
            ]
          },
          "metadata": {
            "tags": []
          },
          "execution_count": 22
        }
      ]
    },
    {
      "cell_type": "markdown",
      "metadata": {
        "id": "XuPqky831sMl",
        "colab_type": "text"
      },
      "source": [
        "#### How does each of the subsidies events looks like?"
      ]
    },
    {
      "cell_type": "code",
      "metadata": {
        "id": "Dfa7rZE8yzGs",
        "colab_type": "code",
        "outputId": "3c91cbfc-e4d3-442d-f11a-5e5002d73b89",
        "colab": {
          "base_uri": "https://localhost:8080/",
          "height": 221
        }
      },
      "source": [
        "dataset.iloc[0]"
      ],
      "execution_count": 0,
      "outputs": [
        {
          "output_type": "execute_result",
          "data": {
            "text/plain": [
              "Nom_projecte                    Beques per a Joves estudiants de Trinitat Nova\n",
              "Breu_Descripció_Projecte     Reconèixer i donar suport als joves en els seu...\n",
              "Entitat_Sol·licitant         ASSOCIACIÓ DEL COMERÇ I DE LES EMPRESES DE TRI...\n",
              "Desc_Modalitat                            Emprenedoria i empresa de proximitat\n",
              "Col.lectiu_Destinatari       Joves estudiants majors d’edat, empadronats al...\n",
              "Adreça                                                  Carrer de la Fosca, 10\n",
              "Codi_Postal                                                               8033\n",
              "Ciutat                                                               Barcelona\n",
              "Longitud                                                               2.18409\n",
              "Latitud                                                                 41.448\n",
              "Àmbit_Territorial                                             LA TRINITAT NOVA\n",
              "Name: 0, dtype: object"
            ]
          },
          "metadata": {
            "tags": []
          },
          "execution_count": 23
        }
      ]
    },
    {
      "cell_type": "markdown",
      "metadata": {
        "id": "-0caJMGi17in",
        "colab_type": "text"
      },
      "source": [
        "#### How many subsidies do we have available?"
      ]
    },
    {
      "cell_type": "code",
      "metadata": {
        "id": "ntvc1_1uyzDY",
        "colab_type": "code",
        "outputId": "1d6973c2-589c-4e82-a1bf-30b8e968a6a1",
        "colab": {
          "base_uri": "https://localhost:8080/",
          "height": 34
        }
      },
      "source": [
        "len(dataset)"
      ],
      "execution_count": 0,
      "outputs": [
        {
          "output_type": "execute_result",
          "data": {
            "text/plain": [
              "97"
            ]
          },
          "metadata": {
            "tags": []
          },
          "execution_count": 24
        }
      ]
    },
    {
      "cell_type": "markdown",
      "metadata": {
        "id": "gi_GtQtu2GS1",
        "colab_type": "text"
      },
      "source": [
        "**Take into account**\n",
        "* The geocoding information is at zip code and latitude/longitude level\n",
        "* There are almost 100 subsidies so there is no need to aggregate events per zip code"
      ]
    },
    {
      "cell_type": "markdown",
      "metadata": {
        "id": "bipmpk5w2e_J",
        "colab_type": "text"
      },
      "source": [
        "#### How many types of subsidies are described?"
      ]
    },
    {
      "cell_type": "code",
      "metadata": {
        "id": "POSrpCqq2FX6",
        "colab_type": "code",
        "outputId": "65a2f025-f3dd-417e-b151-ae58922540b7",
        "colab": {
          "base_uri": "https://localhost:8080/",
          "height": 102
        }
      },
      "source": [
        "dataset['Desc_Modalitat'].unique()"
      ],
      "execution_count": 0,
      "outputs": [
        {
          "output_type": "execute_result",
          "data": {
            "text/plain": [
              "array(['Emprenedoria i empresa de proximitat',\n",
              "       \"Foment de l'ocupació de qualitat al territori\",\n",
              "       'Economies comunitàries i innovació social', 'Turisme responsable',\n",
              "       \"Instal·lació d'activitat econòmica en plantes baixes buides\",\n",
              "       'Innovació Social Digital als territoris'], dtype=object)"
            ]
          },
          "metadata": {
            "tags": []
          },
          "execution_count": 26
        }
      ]
    },
    {
      "cell_type": "markdown",
      "metadata": {
        "id": "oLRG_NgG2o4d",
        "colab_type": "text"
      },
      "source": [
        "#### Select relevant information and save it for the final visualization"
      ]
    },
    {
      "cell_type": "code",
      "metadata": {
        "id": "1Zim2qyu3GeC",
        "colab_type": "code",
        "outputId": "cdf5e22e-5f7f-4438-d5f7-9236efa4ce57",
        "colab": {
          "base_uri": "https://localhost:8080/",
          "height": 85
        }
      },
      "source": [
        "dataset.columns"
      ],
      "execution_count": 0,
      "outputs": [
        {
          "output_type": "execute_result",
          "data": {
            "text/plain": [
              "Index(['Nom_projecte ', 'Breu_Descripció_Projecte ', 'Entitat_Sol·licitant ',\n",
              "       'Desc_Modalitat', 'Col.lectiu_Destinatari ', 'Adreça ', 'Codi_Postal ',\n",
              "       'Ciutat', 'Longitud', 'Latitud', 'Àmbit_Territorial '],\n",
              "      dtype='object')"
            ]
          },
          "metadata": {
            "tags": []
          },
          "execution_count": 27
        }
      ]
    },
    {
      "cell_type": "code",
      "metadata": {
        "id": "dgJ-QjT8doiU",
        "colab_type": "code",
        "colab": {}
      },
      "source": [
        "dataset_selection = dataset[['Nom_projecte ', 'Desc_Modalitat', 'Longitud', 'Latitud']]\n",
        "\n",
        "# Download the dataset for visualizations\n",
        "dataset_selection.to_csv('barcelona_activa.csv',index=False, encoding='utf-8')\n",
        "files.download('barcelona_activa.csv')"
      ],
      "execution_count": 0,
      "outputs": []
    },
    {
      "cell_type": "markdown",
      "metadata": {
        "id": "WdybqGx24DYa",
        "colab_type": "text"
      },
      "source": [
        "#### Build your own visualization in https://app.datawrapper.de"
      ]
    },
    {
      "cell_type": "markdown",
      "metadata": {
        "id": "VoIeZZHR65yn",
        "colab_type": "text"
      },
      "source": [
        "# Add the visualization to your website!\n",
        "\n",
        "Go to the [this Github repository](https://github.com/diazcelsa/tech_for_good) and download the repository."
      ]
    },
    {
      "cell_type": "code",
      "metadata": {
        "id": "RYvSBbBItFdQ",
        "colab_type": "code",
        "colab": {}
      },
      "source": [
        ""
      ],
      "execution_count": 0,
      "outputs": []
    }
  ]
}